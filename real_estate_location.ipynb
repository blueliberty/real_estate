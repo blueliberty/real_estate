{
 "cells": [
  {
   "cell_type": "markdown",
   "metadata": {},
   "source": [
    "已经有的密钥：\n",
    "+ 登录名：blue_liberty@qq.com  \n",
    "  邮箱：blue_liberty@qq.com  \n",
    "  手机号：13708041691  \n",
    "  密钥：42Tm8e7Khmsi3IuTB15wKCGsejjvZV0e\n",
    "  \n",
    "  \n",
    "+ 登录名：13708041691  \n",
    "  邮箱：blue_liberty@163.com  \n",
    "  手机号：18349368961  \n",
    "  密钥：Rm4oiaWBcithZtuWArB5lPm2oxptk7ig  \n",
    "  \n",
    "  \n",
    "+ 密钥：7QP1yCu8hlfwV3QV1mAhkmpmp0kR2K8d\n",
    "\n",
    "\n",
    "+ 密钥：2b6XPUZbwNOb8dAGkez2SNfb4hA8p5eV\n",
    "\n",
    "\n",
    "+ 登录名：15395325356  \n",
    "  密码：13083035356  \n",
    "  邮箱：315373812@qq.com  \n",
    "  密钥：4gYOPlFkxGd5hCXaiK3BQ2oMKUs061TY\n",
    "  \n",
    "  \n",
    "+ 登录名：13675539062  \n",
    "  密码：13083035356  \n",
    "  邮箱：13708041691@163.com  \n",
    "  密钥：EeS0kjMaeFQIoGu2KFRiGaFECqXI1pdi"
   ]
  },
  {
   "cell_type": "markdown",
   "metadata": {},
   "source": [
    "# tips：\n",
    "## 流程走完在restart，防止result变量被覆盖\n",
    "## 密钥用完记得换\n",
    "## all_real_estate_name文件里，已经爬过的小区名要删掉，不要删表头\n",
    "## final_coordinate和raw_coordinate里的内容粘贴进result文件里"
   ]
  },
  {
   "cell_type": "code",
   "execution_count": 3,
   "metadata": {
    "collapsed": false
   },
   "outputs": [],
   "source": [
    "# 载入必要的模块\n",
    "import numpy as np\n",
    "from pandas import Series, DataFrame\n",
    "import pandas as pd\n",
    "import json\n",
    "import requests"
   ]
  },
  {
   "cell_type": "code",
   "execution_count": 4,
   "metadata": {
    "collapsed": false
   },
   "outputs": [],
   "source": [
    "# 读取csv文件，将小区名称取唯一值，转换为DataFrame，列名为name\n",
    "data = pd.read_csv(\"C:/Users/31537/Downloads/Project/location/freq_over_5.csv\", encoding = 'gb18030') # csv文件名需要调整\n",
    "\n",
    "name = data[\"sell_name\"] # 提取小区名称所在列\n",
    "\n",
    "name = list(name)"
   ]
  },
  {
   "cell_type": "code",
   "execution_count": 5,
   "metadata": {
    "collapsed": false,
    "scrolled": true
   },
   "outputs": [
    {
     "data": {
      "text/plain": [
       "3057"
      ]
     },
     "execution_count": 5,
     "metadata": {},
     "output_type": "execute_result"
    }
   ],
   "source": [
    "# 查看待处理的小区名称的个数\n",
    "len(name)"
   ]
  },
  {
   "cell_type": "code",
   "execution_count": 6,
   "metadata": {
    "collapsed": false
   },
   "outputs": [],
   "source": [
    "name = Series(name)"
   ]
  },
  {
   "cell_type": "code",
   "execution_count": 7,
   "metadata": {
    "collapsed": false
   },
   "outputs": [],
   "source": [
    "name1 = name[2228:]"
   ]
  },
  {
   "cell_type": "code",
   "execution_count": 8,
   "metadata": {
    "collapsed": false
   },
   "outputs": [
    {
     "data": {
      "text/plain": [
       "2228           中兴宜川花苑\n",
       "2229          中星四期御菁园\n",
       "2230           中星海上名门\n",
       "2231          中星.佘山溪语\n",
       "2232             中心天虹\n",
       "2233             中深花园\n",
       "2234          中山三路荣华南\n",
       "2235        中山南二路918弄\n",
       "2236             中桥大楼\n",
       "2237        中宁大楼(普陀区)\n",
       "2238             中南新村\n",
       "2239          中梅苑星光雅座\n",
       "2240             中景水岸\n",
       "2241            中虹明珠苑\n",
       "2242             中虹花苑\n",
       "2243             中海瀛台\n",
       "2244             中海怡瑞\n",
       "2245            中海花城湾\n",
       "2246      中关村公寓（当代曹杨）\n",
       "2247       中福城三期(广西路）\n",
       "2248             中达广场\n",
       "2249          智荟苑(镇坪)\n",
       "2250             志丹小区\n",
       "2251         芷江中路459弄\n",
       "2252          执信南路马棚岗\n",
       "2253             芝巷公寓\n",
       "2254          政民路230弄\n",
       "2255             政德公寓\n",
       "2256             正力公寓\n",
       "2257             正大公寓\n",
       "            ...      \n",
       "3027            宝华路散盘\n",
       "3028            宝岗大道中\n",
       "3029             宝钢九村\n",
       "3030          包头路902弄\n",
       "3031             柏林公寓\n",
       "3032            百仕达一期\n",
       "3033             百佳花园\n",
       "3034           百花园玫瑰阁\n",
       "3035            百富丽山庄\n",
       "3036             白玉小区\n",
       "3037              白沙堡\n",
       "3038            巴洛克宫廷\n",
       "3039            八卦岭厂房\n",
       "3040     澳城花园，东海湾豪园一期\n",
       "3041           奥园养生广场\n",
       "3042             奥森公寓\n",
       "3043             鞍山一村\n",
       "3044             安图新村\n",
       "3045              安乐村\n",
       "3046             安康新村\n",
       "3047             安居花苑\n",
       "3048              爱联村\n",
       "3049              爱丽亚\n",
       "3050    爱立诚大厦（SOHO空间）\n",
       "3051             爱都公寓\n",
       "3052             艾南花苑\n",
       "3053              8克拉\n",
       "3054            36区商铺\n",
       "3055            27区住宅\n",
       "3056            14号大院\n",
       "dtype: object"
      ]
     },
     "execution_count": 8,
     "metadata": {},
     "output_type": "execute_result"
    }
   ],
   "source": [
    "name1"
   ]
  },
  {
   "cell_type": "markdown",
   "metadata": {},
   "source": [
    "# 下面的for-loop，记得改密钥"
   ]
  },
  {
   "cell_type": "code",
   "execution_count": 9,
   "metadata": {
    "collapsed": false
   },
   "outputs": [
    {
     "name": "stdout",
     "output_type": "stream",
     "text": [
      "1 1 1 1 1 1 1 1 1 1 1 1 0 1 1 1 1 1 1 1 1 1 0 1 1 1 1 1 1 1 1 1 0 1 1 1 1 1 0 1 0 0 1 1 1 1 1 1 1 1 1 0 0 1 1 1 1 1 1 1 1 1 1 1 1 1 1 1 1 1 1 1 1 1 1 1 1 1 1 1 1 1 1 0 1 1 1 1 1 1 1 0 1 1 1 1 0 0 1 1 1 1 1 1 0 1 1 1 0 0 1 1 1 1 1 1 1 1 1 1 0 1 1 1 1 1 0 1 1 1 1 1 1 1 1 1 1 1 1 1 1 1 1 1 1 1 1 1 1 1 0 1 1 1 1 1 1 1 1 1 1 0 0 1 1 1 1 1 1 1 1 1 1 0 1 1 0 1 1 1 1 1 1 1 1 1 1 1 1 1 1 1 1 1 1 1 1 1 1 1 1 1 1 1 1 1 1 1 1 1 1 1 1 1 1 1 0 1 1 0 1 1 1 1 1 1 1 1 1 1 1 1 1 1 1 1 1 1 1 1 1 1 1 1 1 1 1 1 1 1 1 1 1 1 1 1 1 1 1 0 1 1 1 1 1 1 1 1 1 1 1 1 1 1 1 1 1 1 1 0 1 1 1 1 1 1 1 1 1 1 1 1 1 1 1 1 1 1 1 1 1 0 1 0 1 0 1 0 1 1 1 1 1 1 1 1 1 1 1 1 1 1 0 1 1 1 1 1 0 0 1 1 1 1 1 1 1 0 1 1 1 1 1 1 1 1 1 1 1 0 1 1 1 0 0 1 1 1 1 1 1 1 1 1 1 0 1 1 1 1 1 0 1 1 1 1 1 1 1 1 0 1 0 1 1 1 1 1 1 1 1 0 1 1 1 1 1 1 1 1 1 1 1 1 1 1 1 1 1 1 1 1 1 1 1 1 1 1 1 1 1 1 1 1 1 1 1 1 0 1 0 0 1 1 0 0 0 1 1 1 1 1 1 1 1 1 1 1 1 1 1 1 1 1 1 1 1 0 1 0 1 1 1 1 0 1 1 1 1 1 1 1 1 1 1 1 1 1 1 1 1 1 1 1 1 0 1 1 1 0 1 1 1 1 1 1 1 1 1 1 1 1 1 1 1 1 1 0 1 1 1 1 1 1 1 1 1 1 1 1 1 1 1 0 1 1 1 1 1 1 1 1 1 0 1 1 1 1 1 1 1 1 1 1 0 1 1 1 1 1 0 1 1 1 1 1 1 1 0 1 1 1 1 1 1 1 1 1 1 1 1 1 1 1 0 1 1 1 1 1 1 1 1 1 1 1 1 1 1 1 0 0 1 1 1 1 1 1 1 1 1 1 1 1 1 1 1 1 1 1 1 1 1 1 1 1 1 1 1 1 1 1 1 1 1 1 1 1 0 1 1 1 1 0 1 1 1 1 1 1 0 1 1 1 1 1 1 1 0 1 1 1 1 1 1 1 1 1 1 1 1 1 0 1 1 1 1 1 1 1 1 1 1 1 1 1 1 1 1 1 1 1 1 1 1 1 1 1 1 1 1 1 1 1 1 1 1 1 1 0 1 1 0 1 0 1 1 1 1 1 1 1 1 1 0 1 1 0 1 1 1 1 1 1 1 1 1 1 1 0 1 1 1 1 1 1 1 1 1 1 0 1 1 1 1 1 0 1 1 1 1 1 1 1 1 1 1 1 1 0 1 1 1 1 1 0 1 0 1 1 1 0 1 1 1 1 1 1 1 1 0 1 1 1 1 1 1 1 1 0 0 1 1 1 1 1 1 1 1 1 1 1 1 1 1 1 1 1 1 1 1 1 1 1 1 1 1 1 1 1 1 1 1 0 1 1 1 1 1\n"
     ]
    }
   ],
   "source": [
    "# 创建一个空的DataFrame\n",
    "result = DataFrame({'name': [], 'location': [], 'address': []})\n",
    "empty_txt = DataFrame({'name': [np.nan], 'location': [np.nan], 'address': [np.nan]})\n",
    "col = ['name', 'location', 'address']\n",
    "\n",
    "a = 1\n",
    "# 获取小区的经纬度数据\n",
    "for s in name1:\n",
    "    print a,\n",
    "    a += 1\n",
    "    \n",
    "    s = s.encode(\"UTF-8\")\n",
    "    s = repr(s).replace('\\\\x', '%').strip(\"'\")\n",
    "    url = 'http://api.map.baidu.com/place/v2/search?query=' + s + '&page_size=1&page_num=0&scope=1&region=深圳&output=json&ak=4gYOPlFkxGd5hCXaiK3BQ2oMKUs061TY'\n",
    "    \n",
    "    resp = requests.get(url)\n",
    "    data1 = json.loads(resp.text)\n",
    "    txt = DataFrame(data1['results']).ix[:0, ['name', 'location', 'address']]\n",
    "    a, b = txt.shape\n",
    "    if a == 0:\n",
    "        result = pd.concat([result, empty_txt], axis = 0, ignore_index=True)\n",
    "    else:\n",
    "        result = pd.concat([result, txt], axis = 0, ignore_index=True)    "
   ]
  },
  {
   "cell_type": "code",
   "execution_count": null,
   "metadata": {
    "collapsed": false
   },
   "outputs": [],
   "source": [
    "# 查看获取了经纬度的小区个数\n",
    "result.shape"
   ]
  },
  {
   "cell_type": "code",
   "execution_count": null,
   "metadata": {
    "collapsed": false
   },
   "outputs": [],
   "source": [
    "result"
   ]
  },
  {
   "cell_type": "code",
   "execution_count": 10,
   "metadata": {
    "collapsed": false
   },
   "outputs": [],
   "source": [
    "# 将result写入名为raw_coordinate的csv文件中\n",
    "result.to_csv(\"C:/Users/31537/Downloads/Project/location/raw_coordinate.csv\",encoding='gb18030')"
   ]
  },
  {
   "cell_type": "markdown",
   "metadata": {
    "collapsed": true
   },
   "source": [
    "# 下面的程序是处理经纬度的"
   ]
  },
  {
   "cell_type": "code",
   "execution_count": 11,
   "metadata": {
    "collapsed": false
   },
   "outputs": [],
   "source": [
    "# 选取location列\n",
    "location = result['location']\n",
    "\n",
    "# 创建空列表，后续分离的经纬度将会存放在该列表中\n",
    "location_result = []\n",
    "\n",
    "# 将经度和纬度分离，并进行必要的字符串处理\n",
    "for raw_location in location:\n",
    "    # 创建一个临时的列表容器\n",
    "    temp_result = []\n",
    "        \n",
    "    # 将经纬度分离\n",
    "    temp_coordinate = str(raw_location).split(\",\")\n",
    "    \n",
    "    # 进行必要的字符串处理，将结果放入temp_result中\n",
    "    for loc in temp_coordinate:\n",
    "        loc = loc.strip(\"{u'lat': \").strip(\" u'lng': \").strip(\"}\")\n",
    "        temp_result.append(loc)\n",
    "    \n",
    "    location_result.append(temp_result)\n",
    "\n",
    "# 将存放分离的经纬度的列表转换为DataFrame\n",
    "final_coordinate = DataFrame(location_result)\n",
    "\n",
    "# 将存放分离的经纬度的DataFrame，写入名为final_coordinate的csv文件中\n",
    "final_coordinate.to_csv(\"C:/Users/31537/Downloads/Project/location/final_coordinate.csv\",encoding='gb18030')"
   ]
  },
  {
   "cell_type": "code",
   "execution_count": null,
   "metadata": {
    "collapsed": true
   },
   "outputs": [],
   "source": []
  },
  {
   "cell_type": "code",
   "execution_count": null,
   "metadata": {
    "collapsed": true
   },
   "outputs": [],
   "source": []
  },
  {
   "cell_type": "code",
   "execution_count": null,
   "metadata": {
    "collapsed": true
   },
   "outputs": [],
   "source": []
  },
  {
   "cell_type": "code",
   "execution_count": null,
   "metadata": {
    "collapsed": true
   },
   "outputs": [],
   "source": []
  },
  {
   "cell_type": "code",
   "execution_count": null,
   "metadata": {
    "collapsed": true
   },
   "outputs": [],
   "source": []
  },
  {
   "cell_type": "code",
   "execution_count": null,
   "metadata": {
    "collapsed": true
   },
   "outputs": [],
   "source": [
    "result = pd.read_csv(\"E:/house/real_estate/raw_coordinate.csv\", encoding = 'gb18030') # csv文件名需要调整"
   ]
  },
  {
   "cell_type": "code",
   "execution_count": null,
   "metadata": {
    "collapsed": true
   },
   "outputs": [],
   "source": []
  },
  {
   "cell_type": "code",
   "execution_count": null,
   "metadata": {
    "collapsed": true
   },
   "outputs": [],
   "source": []
  },
  {
   "cell_type": "code",
   "execution_count": null,
   "metadata": {
    "collapsed": true
   },
   "outputs": [],
   "source": []
  },
  {
   "cell_type": "code",
   "execution_count": null,
   "metadata": {
    "collapsed": true
   },
   "outputs": [],
   "source": []
  },
  {
   "cell_type": "code",
   "execution_count": null,
   "metadata": {
    "collapsed": true
   },
   "outputs": [],
   "source": []
  },
  {
   "cell_type": "code",
   "execution_count": null,
   "metadata": {
    "collapsed": true
   },
   "outputs": [],
   "source": []
  },
  {
   "cell_type": "code",
   "execution_count": null,
   "metadata": {
    "collapsed": true
   },
   "outputs": [],
   "source": []
  },
  {
   "cell_type": "code",
   "execution_count": null,
   "metadata": {
    "collapsed": true
   },
   "outputs": [],
   "source": []
  },
  {
   "cell_type": "code",
   "execution_count": null,
   "metadata": {
    "collapsed": true
   },
   "outputs": [],
   "source": []
  },
  {
   "cell_type": "code",
   "execution_count": null,
   "metadata": {
    "collapsed": true
   },
   "outputs": [],
   "source": []
  },
  {
   "cell_type": "raw",
   "metadata": {
    "collapsed": true
   },
   "source": [
    "# 创建一个空的DataFrame\n",
    "df = {'name': [], 'location': []}\n",
    "result = DataFrame(df)\n",
    "col = ['name', 'location']\n",
    "\n",
    "# 获取小区的经纬度数据\n",
    "def get_location(string):\n",
    "    # 调用query_transform函数，获得小区名称的utf-8编码\n",
    "    string = query_transform(string)\n",
    "    \n",
    "    # 创建API的url\n",
    "    url = 'http://api.map.baidu.com/place/v2/search?query=' + string + '&page_size=1&page_num=0&scope=1&region=深圳&output=json&ak=42Tm8e7Khmsi3IuTB15wKCGsejjvZV0e'\n",
    "    \n",
    "    # 根据url获取相应小区的百度地图信息\n",
    "    resp = requests.get(url)\n",
    "    data = json.loads(resp.text)\n",
    "    \n",
    "    # 选取需要的经纬度信息，以DataFrame形式返回\n",
    "    coordinate = DataFrame(data['results'], columns = col)\n",
    "    \n",
    "    global result\n",
    "    result = pd.concat([result, coordinate], axis = 0, ignore_index=True)\n",
    "\n",
    "    return result\n",
    "\n",
    "# 获得小区的经纬度\n",
    "data.map(get_location)"
   ]
  },
  {
   "cell_type": "code",
   "execution_count": null,
   "metadata": {
    "collapsed": true
   },
   "outputs": [],
   "source": []
  }
 ],
 "metadata": {
  "kernelspec": {
   "display_name": "Python 2",
   "language": "python",
   "name": "python2"
  },
  "language_info": {
   "codemirror_mode": {
    "name": "ipython",
    "version": 2
   },
   "file_extension": ".py",
   "mimetype": "text/x-python",
   "name": "python",
   "nbconvert_exporter": "python",
   "pygments_lexer": "ipython2",
   "version": "2.7.11"
  }
 },
 "nbformat": 4,
 "nbformat_minor": 0
}
